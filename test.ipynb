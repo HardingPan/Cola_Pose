{
 "cells": [
  {
   "cell_type": "code",
   "execution_count": 1,
   "metadata": {},
   "outputs": [
    {
     "name": "stdout",
     "output_type": "stream",
     "text": [
      "旋转矩阵是否正交: True\n"
     ]
    }
   ],
   "source": [
    "import numpy as np\n",
    "\n",
    "rt_matrix = np.array([\n",
    "    [9.71827300e-01, -1.60660300e-01, -1.72452795e-01, -2.36414081e+02],\n",
    "    [-5.63600655e-02, 5.52047851e-01, -8.31905472e-01, -1.32976182e+02],\n",
    "    [2.28856377e-01, 8.18187899e-01, 5.27440347e-01, 8.45291372e+02]\n",
    "])\n",
    "\n",
    "# 检查旋转部分是否为正交矩阵\n",
    "rotation_matrix = rt_matrix[:, :3]\n",
    "is_orthogonal = np.allclose(np.dot(rotation_matrix, rotation_matrix.T), np.eye(3))\n",
    "\n",
    "print(\"旋转矩阵是否正交:\", is_orthogonal)"
   ]
  }
 ],
 "metadata": {
  "kernelspec": {
   "display_name": "emerther",
   "language": "python",
   "name": "python3"
  },
  "language_info": {
   "codemirror_mode": {
    "name": "ipython",
    "version": 3
   },
   "file_extension": ".py",
   "mimetype": "text/x-python",
   "name": "python",
   "nbconvert_exporter": "python",
   "pygments_lexer": "ipython3",
   "version": "3.10.14"
  }
 },
 "nbformat": 4,
 "nbformat_minor": 2
}
